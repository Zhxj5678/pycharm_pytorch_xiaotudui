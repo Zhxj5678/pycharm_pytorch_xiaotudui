{
 "cells": [
  {
   "cell_type": "code",
   "execution_count": 1,
   "id": "53593160-61cf-485f-9417-b3428cad8776",
   "metadata": {
    "tags": []
   },
   "outputs": [],
   "source": [
    "from torch.utils.tensorboard import SummaryWriter"
   ]
  },
  {
   "cell_type": "code",
   "execution_count": 2,
   "id": "b98ba061-ebb0-4f46-a712-259fd67da197",
   "metadata": {
    "tags": []
   },
   "outputs": [],
   "source": [
    "writer = SummaryWriter(\"logs\")"
   ]
  },
  {
   "cell_type": "code",
   "execution_count": 3,
   "id": "3b399de7-660d-49d0-b742-9b8f296eabdc",
   "metadata": {
    "tags": []
   },
   "outputs": [],
   "source": [
    "# writer.add_image()\n",
    "\n",
    "# 可以看到目录生成一个logs文件，\n",
    "# 里面包含生成的事件文件，接下来就用tensorboard读取\n",
    "for i in range(100):\n",
    "    writer.add_scalar(\"y = x\", i, i)"
   ]
  },
  {
   "cell_type": "code",
   "execution_count": 4,
   "id": "c6520f5d-e323-4630-9e5f-0b2a702f8da8",
   "metadata": {
    "tags": []
   },
   "outputs": [],
   "source": [
    "writer.close()"
   ]
  },
  {
   "cell_type": "code",
   "execution_count": 7,
   "id": "3c5ea532-f37b-45d1-a51f-8d718cbca02f",
   "metadata": {
    "tags": []
   },
   "outputs": [],
   "source": [
    "image_path = \"../dataset/hymenoptera_data/hymenoptera_data/train/ants/0013035.jpg\""
   ]
  },
  {
   "cell_type": "code",
   "execution_count": 8,
   "id": "c4c6a315-9bd0-4fdf-a35a-704c7dce985f",
   "metadata": {
    "tags": []
   },
   "outputs": [],
   "source": [
    "from PIL import Image"
   ]
  },
  {
   "cell_type": "code",
   "execution_count": null,
   "id": "1d89c978-6ff1-4d9b-b0f3-1f3f4a03caf4",
   "metadata": {
    "tags": []
   },
   "outputs": [],
   "source": [
    "img = Image.open(image_path)"
   ]
  },
  {
   "cell_type": "code",
   "execution_count": 10,
   "id": "3a5d087f-997d-41ca-af0f-82abba89a335",
   "metadata": {
    "tags": []
   },
   "outputs": [],
   "source": [
    "img.show()"
   ]
  },
  {
   "cell_type": "code",
   "execution_count": 13,
   "id": "56d19e5e-4f60-4b57-8a10-dbf9e65e5ef6",
   "metadata": {
    "tags": []
   },
   "outputs": [
    {
     "name": "stdout",
     "output_type": "stream",
     "text": [
      "<class 'PIL.JpegImagePlugin.JpegImageFile'>\n"
     ]
    }
   ],
   "source": [
    "print(type(img))\n",
    "# 这个类型不能直接用，要转换成tensor才行，之后进行补充，下面使用numpy来做"
   ]
  },
  {
   "cell_type": "code",
   "execution_count": 15,
   "id": "41db1721-6948-4d3e-864f-ad8fc33bec52",
   "metadata": {
    "tags": []
   },
   "outputs": [],
   "source": [
    "import numpy as np"
   ]
  },
  {
   "cell_type": "code",
   "execution_count": 16,
   "id": "5753d50b-eae9-4edc-ac67-7749f8129ba0",
   "metadata": {
    "tags": []
   },
   "outputs": [],
   "source": [
    "img_array = np.array(img)"
   ]
  },
  {
   "cell_type": "markdown",
   "id": "9303523d-561b-420f-8f33-2106083461b3",
   "metadata": {},
   "source": [
    "---"
   ]
  },
  {
   "cell_type": "code",
   "execution_count": 5,
   "id": "33248d15-a72c-41ba-9052-053831ed48e8",
   "metadata": {
    "tags": []
   },
   "outputs": [],
   "source": [
    "from torch.utils.tensorboard import SummaryWriter\n",
    "import numpy as np\n",
    "from PIL import Image"
   ]
  },
  {
   "cell_type": "code",
   "execution_count": 6,
   "id": "00be36e8-b2fe-4751-a520-e6ef2af69d5e",
   "metadata": {
    "tags": []
   },
   "outputs": [
    {
     "name": "stdout",
     "output_type": "stream",
     "text": [
      "<class 'numpy.ndarray'>\n",
      "(512, 768, 3)\n"
     ]
    }
   ],
   "source": [
    "writer = SummaryWriter(\"logs\")\n",
    "image_path = \"../dataset/hymenoptera_data/hymenoptera_data/train/ants/0013035.jpg\"\n",
    "img = Image.open(image_path)\n",
    "img_array = np.array(img)\n",
    "print(type(img_array))\n",
    "print(img_array.shape)"
   ]
  },
  {
   "cell_type": "code",
   "execution_count": 7,
   "id": "3fe9241a-ee77-45a2-b179-0e32edab6510",
   "metadata": {
    "tags": []
   },
   "outputs": [],
   "source": [
    "writer.add_image(\"test\", img_array, 1, dataformats='HWC')"
   ]
  },
  {
   "cell_type": "code",
   "execution_count": 8,
   "id": "be14ea36-3bcb-4e7f-8f68-75c6535599b7",
   "metadata": {
    "tags": []
   },
   "outputs": [],
   "source": [
    "writer.close()"
   ]
  },
  {
   "cell_type": "code",
   "execution_count": null,
   "id": "f27817b6-6793-44dc-8cb4-49e5a1564258",
   "metadata": {},
   "outputs": [],
   "source": []
  }
 ],
 "metadata": {
  "kernelspec": {
   "display_name": "Python 3 (ipykernel)",
   "language": "python",
   "name": "python3"
  },
  "language_info": {
   "codemirror_mode": {
    "name": "ipython",
    "version": 3
   },
   "file_extension": ".py",
   "mimetype": "text/x-python",
   "name": "python",
   "nbconvert_exporter": "python",
   "pygments_lexer": "ipython3",
   "version": "3.8.13"
  }
 },
 "nbformat": 4,
 "nbformat_minor": 5
}
